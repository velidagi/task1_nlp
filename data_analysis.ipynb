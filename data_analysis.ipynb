{
 "cells": [
  {
   "cell_type": "code",
   "execution_count": 1,
   "id": "49755163-544f-4ab0-8dbd-33c753383b68",
   "metadata": {},
   "outputs": [],
   "source": [
    "import pandas as pd\n",
    "import matplotlib.pyplot as plt\n",
    "\n"
   ]
  },
  {
   "cell_type": "code",
   "execution_count": 2,
   "id": "df3777a4-94ea-439a-ab37-da155117fbb6",
   "metadata": {},
   "outputs": [
    {
     "name": "stdout",
     "output_type": "stream",
     "text": [
      "            name               real_name               full_name  \\\n",
      "0        3-D Man     Delroy Garrett, Jr.     Delroy Garrett, Jr.   \n",
      "1  514A (Gotham)             Bruce Wayne                 Unknown   \n",
      "2         A-Bomb  Richard Milhouse Jones  Richard Milhouse Jones   \n",
      "3             Aa                      Aa                 Unknown   \n",
      "4     Aaron Cash              Aaron Cash              Aaron Cash   \n",
      "\n",
      "  overall_score                                       history_text  \\\n",
      "0             6  Delroy Garrett, Jr. grew up to become a track ...   \n",
      "1            10  He was one of the many prisoners of Indian Hil...   \n",
      "2            20   Richard \"Rick\" Jones was orphaned at a young ...   \n",
      "3            12  Aa is one of the more passive members of the P...   \n",
      "4             5  Aaron Cash is the head of security at Arkham A...   \n",
      "\n",
      "                                         powers_text  intelligence_score  \\\n",
      "0                                                NaN                  85   \n",
      "1                                                NaN                 100   \n",
      "2    On rare occasions, and through unusual circu...                  80   \n",
      "3                                                NaN                  80   \n",
      "4                                                NaN                  80   \n",
      "\n",
      "   strength_score  speed_score  durability_score  ...  \\\n",
      "0              30           60                60  ...   \n",
      "1              20           30                50  ...   \n",
      "2             100           80               100  ...   \n",
      "3              50           55                45  ...   \n",
      "4              10           25                40  ...   \n",
      "\n",
      "                                               teams  \\\n",
      "0  ['Annihilators', 'Asgardians', 'Avengers', 'Ne...   \n",
      "1                                                 []   \n",
      "2  ['Teen Brigade', 'Ultimate Fantastic Four', 'U...   \n",
      "3  ['Blue Lantern Corps', 'Green Lantern Corps', ...   \n",
      "4                                                 []   \n",
      "\n",
      "                                           relatives   gender type_race  \\\n",
      "0                                                NaN     Male     Human   \n",
      "1                     Bruce Wayne (genetic template)  Unknown       NaN   \n",
      "2  Marlo Chandler-Jones (wife); Polly (aunt); Mrs...     Male     Human   \n",
      "3                                                NaN     Male     Human   \n",
      "4                                                NaN     Male     Human   \n",
      "\n",
      "         height           weight eye_color hair_color skin_color  \\\n",
      "0             -                -       NaN        NaN        NaN   \n",
      "1             -                -       NaN        NaN        NaN   \n",
      "2  6'8 • 203 cm  980 lb • 441 kg    Yellow    No Hair        NaN   \n",
      "3             -                -       NaN        NaN        NaN   \n",
      "4             -                -       NaN        NaN        NaN   \n",
      "\n",
      "                                                 img  \n",
      "0  /pictures2/portraits/11/050/10038.jpg?v=156096...  \n",
      "1                                                NaN  \n",
      "2  /pictures2/portraits/10/050/10060.jpg?v=158233...  \n",
      "3  /pictures2/portraits/10/050/1410.jpg?v=1581168103  \n",
      "4  /pictures2/portraits/11/050/11650.jpg?v=156173...  \n",
      "\n",
      "[5 rows x 31 columns]\n"
     ]
    }
   ],
   "source": [
    "dataframe = pd.read_csv(\"superheroes_nlp_dataset_cleaned.csv\")\n",
    "\n",
    "print(dataframe.head())\n"
   ]
  },
  {
   "cell_type": "code",
   "execution_count": 3,
   "id": "d495c6d4",
   "metadata": {},
   "outputs": [
    {
     "data": {
      "text/plain": [
       "'\\n\\nTOP 10 Female Superheroes \\n\\n'"
      ]
     },
     "execution_count": 3,
     "metadata": {},
     "output_type": "execute_result"
    }
   ],
   "source": [
    "\"\"\"\n",
    "\n",
    "TOP 10 Female Superheroes \n",
    "\n",
    "\"\"\""
   ]
  },
  {
   "cell_type": "code",
   "execution_count": 4,
   "id": "23eeac54-2a4e-436f-a0be-b039554d28a3",
   "metadata": {},
   "outputs": [
    {
     "data": {
      "text/html": [
       "<div>\n",
       "<style scoped>\n",
       "    .dataframe tbody tr th:only-of-type {\n",
       "        vertical-align: middle;\n",
       "    }\n",
       "\n",
       "    .dataframe tbody tr th {\n",
       "        vertical-align: top;\n",
       "    }\n",
       "\n",
       "    .dataframe thead th {\n",
       "        text-align: right;\n",
       "    }\n",
       "</style>\n",
       "<table border=\"1\" class=\"dataframe\">\n",
       "  <thead>\n",
       "    <tr style=\"text-align: right;\">\n",
       "      <th></th>\n",
       "      <th>name</th>\n",
       "      <th>real_name</th>\n",
       "      <th>overall_score</th>\n",
       "      <th>combat_score</th>\n",
       "      <th>strength_score</th>\n",
       "      <th>intelligence_score</th>\n",
       "    </tr>\n",
       "  </thead>\n",
       "  <tbody>\n",
       "    <tr>\n",
       "      <th>845</th>\n",
       "      <td>Man Of Miracles</td>\n",
       "      <td>Mother Of Existence</td>\n",
       "      <td>∞</td>\n",
       "      <td>100</td>\n",
       "      <td>100</td>\n",
       "      <td>100</td>\n",
       "    </tr>\n",
       "    <tr>\n",
       "      <th>376</th>\n",
       "      <td>Death Of The Endless</td>\n",
       "      <td>Death</td>\n",
       "      <td>∞</td>\n",
       "      <td>50</td>\n",
       "      <td>100</td>\n",
       "      <td>100</td>\n",
       "    </tr>\n",
       "    <tr>\n",
       "      <th>500</th>\n",
       "      <td>Gamora</td>\n",
       "      <td>Gamora Zen Whoberi Ben Titan</td>\n",
       "      <td>9</td>\n",
       "      <td>100</td>\n",
       "      <td>85</td>\n",
       "      <td>90</td>\n",
       "    </tr>\n",
       "    <tr>\n",
       "      <th>1214</th>\n",
       "      <td>Spitfire</td>\n",
       "      <td>Jacqueline Falsworth</td>\n",
       "      <td>9</td>\n",
       "      <td>100</td>\n",
       "      <td>30</td>\n",
       "      <td>90</td>\n",
       "    </tr>\n",
       "    <tr>\n",
       "      <th>20</th>\n",
       "      <td>Agent 13 (MCU)</td>\n",
       "      <td>Sharon Carter</td>\n",
       "      <td>9</td>\n",
       "      <td>100</td>\n",
       "      <td>20</td>\n",
       "      <td>95</td>\n",
       "    </tr>\n",
       "    <tr>\n",
       "      <th>179</th>\n",
       "      <td>Black Canary (Injustice)</td>\n",
       "      <td>Dinah Laurel Lance</td>\n",
       "      <td>9</td>\n",
       "      <td>100</td>\n",
       "      <td>20</td>\n",
       "      <td>95</td>\n",
       "    </tr>\n",
       "    <tr>\n",
       "      <th>871</th>\n",
       "      <td>Melinda May (MCU)</td>\n",
       "      <td>Melinda May</td>\n",
       "      <td>9</td>\n",
       "      <td>100</td>\n",
       "      <td>10</td>\n",
       "      <td>100</td>\n",
       "    </tr>\n",
       "    <tr>\n",
       "      <th>276</th>\n",
       "      <td>Catwoman (Injustice)</td>\n",
       "      <td>Selina Kyle</td>\n",
       "      <td>9</td>\n",
       "      <td>100</td>\n",
       "      <td>10</td>\n",
       "      <td>95</td>\n",
       "    </tr>\n",
       "    <tr>\n",
       "      <th>570</th>\n",
       "      <td>Harumi</td>\n",
       "      <td>Harumi</td>\n",
       "      <td>9</td>\n",
       "      <td>100</td>\n",
       "      <td>10</td>\n",
       "      <td>95</td>\n",
       "    </tr>\n",
       "    <tr>\n",
       "      <th>598</th>\n",
       "      <td>Hinata Hyūga</td>\n",
       "      <td>Hinata Hyūga</td>\n",
       "      <td>9</td>\n",
       "      <td>100</td>\n",
       "      <td>10</td>\n",
       "      <td>90</td>\n",
       "    </tr>\n",
       "  </tbody>\n",
       "</table>\n",
       "</div>"
      ],
      "text/plain": [
       "                          name                     real_name overall_score  \\\n",
       "845            Man Of Miracles           Mother Of Existence             ∞   \n",
       "376       Death Of The Endless                         Death             ∞   \n",
       "500                     Gamora  Gamora Zen Whoberi Ben Titan             9   \n",
       "1214                  Spitfire          Jacqueline Falsworth             9   \n",
       "20              Agent 13 (MCU)                 Sharon Carter             9   \n",
       "179   Black Canary (Injustice)            Dinah Laurel Lance             9   \n",
       "871          Melinda May (MCU)                   Melinda May             9   \n",
       "276       Catwoman (Injustice)                   Selina Kyle             9   \n",
       "570                     Harumi                        Harumi             9   \n",
       "598               Hinata Hyūga                  Hinata Hyūga             9   \n",
       "\n",
       "      combat_score  strength_score  intelligence_score  \n",
       "845            100             100                 100  \n",
       "376             50             100                 100  \n",
       "500            100              85                  90  \n",
       "1214           100              30                  90  \n",
       "20             100              20                  95  \n",
       "179            100              20                  95  \n",
       "871            100              10                 100  \n",
       "276            100              10                  95  \n",
       "570            100              10                  95  \n",
       "598            100              10                  90  "
      ]
     },
     "execution_count": 4,
     "metadata": {},
     "output_type": "execute_result"
    }
   ],
   "source": [
    "gender_cleaned = dataframe[\"gender\"].str.lower()\n",
    "female_heroes = dataframe[gender_cleaned ==\"female\"]\n",
    "\n",
    "# print(female_heroes)\n",
    "sorted_female_heroes = female_heroes.sort_values(by=[\"overall_score\",\"combat_score\",\"strength_score\",\"intelligence_score\"],ascending=False).head(10)\n",
    "\n",
    "sorted_female_heroes[[\"name\",\"real_name\", \"overall_score\",\"combat_score\",\"strength_score\",\"intelligence_score\"]]"
   ]
  },
  {
   "cell_type": "code",
   "execution_count": 5,
   "id": "06a51890-5d9d-4ba2-9c43-3be7f140ba6e",
   "metadata": {},
   "outputs": [
    {
     "name": "stdout",
     "output_type": "stream",
     "text": [
      "23.1% of the superheroes are women.\n"
     ]
    }
   ],
   "source": [
    "\"\"\"Percentage \"\"\"\n",
    "\n",
    "total = len(dataframe)\n",
    "female_count = len(female_heroes)\n",
    "percentage = round((female_count / total) * 100, 2)\n",
    "print(f\"{percentage}% of the superheroes are women.\")"
   ]
  },
  {
   "cell_type": "code",
   "execution_count": 6,
   "id": "e0be4d11-128b-4972-867b-f1cdc6281404",
   "metadata": {},
   "outputs": [
    {
     "data": {
      "image/png": "[encoded data removed]",
      "text/plain": [
       "<Figure size 600x600 with 1 Axes>"
      ]
     },
     "metadata": {},
     "output_type": "display_data"
    }
   ],
   "source": [
    "import matplotlib.pyplot as plt\n",
    "\n",
    "# Sayılar\n",
    "female_count = len(female_heroes)\n",
    "unknown_count = len(dataframe[dataframe[\"gender\"]==\"Unknown\"])\n",
    "male_count = len(dataframe) - female_count - unknown_count\n",
    "counts = [female_count, male_count, unknown_count]\n",
    "labels = ['Female', 'Male', 'Unknown']\n",
    "colors = ['#FF69B4', \"#31ADFA\", \"#5FC21E\"]  # pembe - mavi tonları\n",
    "\n",
    "# Pasta Grafiği\n",
    "plt.figure(figsize=(6,6))\n",
    "plt.pie(counts, labels=labels, autopct='%1.1f%%', colors=colors, startangle=90)\n",
    "plt.title('Gender Distribution of Superheroes')\n",
    "plt.axis('equal')  \n",
    "plt.show()\n"
   ]
  },
  {
   "cell_type": "code",
   "execution_count": null,
   "id": "49fda364",
   "metadata": {},
   "outputs": [],
   "source": []
  },
  {
   "cell_type": "code",
   "execution_count": null,
   "id": "25def96a",
   "metadata": {},
   "outputs": [],
   "source": []
  }
 ],
 "metadata": {
  "kernelspec": {
   "display_name": "Python 3",
   "language": "python",
   "name": "python3"
  },
  "language_info": {
   "codemirror_mode": {
    "name": "ipython",
    "version": 3
   },
   "file_extension": ".py",
   "mimetype": "text/x-python",
   "name": "python",
   "nbconvert_exporter": "python",
   "pygments_lexer": "ipython3",
   "version": "3.13.3"
  }
 },
 "nbformat": 4,
 "nbformat_minor": 5
}
